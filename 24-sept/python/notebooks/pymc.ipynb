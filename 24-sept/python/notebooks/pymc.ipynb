{
 "cells": [
  {
   "cell_type": "code",
   "id": "3ca7eeca-3fa1-4863-8143-9c7b5c90d5c8",
   "metadata": {
    "ExecuteTime": {
     "end_time": "2024-08-28T11:35:53.713668Z",
     "start_time": "2024-08-28T11:35:53.536719Z"
    }
   },
   "source": "import numpy as np",
   "outputs": [],
   "execution_count": 1
  },
  {
   "cell_type": "code",
   "id": "0191fb72-4c0b-4812-875d-3b139de4ac80",
   "metadata": {
    "ExecuteTime": {
     "end_time": "2024-08-28T11:36:23.928143Z",
     "start_time": "2024-08-28T11:36:23.903744Z"
    }
   },
   "source": [
    "np.__version__"
   ],
   "outputs": [
    {
     "data": {
      "text/plain": [
       "'1.26.4'"
      ]
     },
     "execution_count": 2,
     "metadata": {},
     "output_type": "execute_result"
    }
   ],
   "execution_count": 2
  },
  {
   "cell_type": "code",
   "id": "d11cae4e-0798-47c0-b3ba-81ad4bc0ea34",
   "metadata": {
    "ExecuteTime": {
     "end_time": "2024-08-28T11:36:28.084877Z",
     "start_time": "2024-08-28T11:36:25.510829Z"
    }
   },
   "source": [
    "import pymc"
   ],
   "outputs": [],
   "execution_count": 3
  },
  {
   "cell_type": "code",
   "id": "562238b3-d38f-4f1e-8ba2-b9dd02dea378",
   "metadata": {
    "ExecuteTime": {
     "end_time": "2024-08-28T11:39:16.275845Z",
     "start_time": "2024-08-28T11:39:14.333652Z"
    }
   },
   "source": [
    "import pymc as pm\n",
    "\n",
    "# Taking draws from a normal distribution\n",
    "seed = 42\n",
    "x_dist = pm.Normal.dist(shape=(100, 3))\n",
    "x_data = pm.draw(x_dist, random_seed=seed)\n",
    "\n",
    "# Define coordinate values for all dimensions of the data\n",
    "coords={\n",
    " \"trial\": range(100),\n",
    " \"features\": [\"sunlight hours\", \"water amount\", \"soil nitrogen\"],\n",
    "}\n",
    "\n",
    "# Define generative model\n",
    "with pm.Model(coords=coords) as generative_model:\n",
    "   x = pm.Data(\"x\", x_data, dims=[\"trial\", \"features\"])\n",
    "\n",
    "   # Model parameters\n",
    "   betas = pm.Normal(\"betas\", dims=\"features\")\n",
    "   sigma = pm.HalfNormal(\"sigma\")\n",
    "\n",
    "   # Linear model\n",
    "   mu = x @ betas\n",
    "\n",
    "   # Likelihood\n",
    "   # Assuming we measure deviation of each plant from baseline\n",
    "   plant_growth = pm.Normal(\"plant growth\", mu, sigma, dims=\"trial\")\n",
    "\n",
    "\n",
    "# Generating data from model by fixing parameters\n",
    "fixed_parameters = {\n",
    " \"betas\": [5, 20, 2],\n",
    " \"sigma\": 0.5,\n",
    "}\n",
    "with pm.do(generative_model, fixed_parameters) as synthetic_model:\n",
    "   idata = pm.sample_prior_predictive(random_seed=seed) # Sample from prior predictive distribution.\n",
    "   synthetic_y = idata.prior[\"plant growth\"].sel(draw=0, chain=0)\n",
    "\n",
    "\n",
    "# Infer parameters conditioned on observed data\n",
    "with pm.observe(generative_model, {\"plant growth\": synthetic_y}) as inference_model:\n",
    "   idata = pm.sample(random_seed=seed)\n",
    "\n",
    "   summary = pm.stats.summary(idata, var_names=[\"betas\", \"sigma\"])\n",
    "   print(summary)"
   ],
   "outputs": [
    {
     "name": "stderr",
     "output_type": "stream",
     "text": [
      "Sampling: [plant growth]\n",
      "Auto-assigning NUTS sampler...\n",
      "Initializing NUTS using jitter+adapt_diag...\n",
      "Multiprocess sampling (4 chains in 4 jobs)\n",
      "NUTS: [betas, sigma]\n"
     ]
    },
    {
     "data": {
      "text/plain": [
       "/opt/homebrew/Caskroom/miniconda/base/envs/python/lib/python3.12/site-packages/rich/live.py:231: UserWarning: \n",
       "install \"ipywidgets\" for Jupyter support\n",
       "  warnings.warn('install \"ipywidgets\" for Jupyter support')\n"
      ],
      "text/html": [
       "<pre style=\"white-space:pre;overflow-x:auto;line-height:normal;font-family:Menlo,'DejaVu Sans Mono',consolas,'Courier New',monospace\">/opt/homebrew/Caskroom/miniconda/base/envs/python/lib/python3.12/site-packages/rich/live.py:231: UserWarning: \n",
       "install \"ipywidgets\" for Jupyter support\n",
       "  warnings.warn('install \"ipywidgets\" for Jupyter support')\n",
       "</pre>\n"
      ]
     },
     "metadata": {},
     "output_type": "display_data"
    },
    {
     "data": {
      "text/plain": [],
      "text/html": [
       "<pre style=\"white-space:pre;overflow-x:auto;line-height:normal;font-family:Menlo,'DejaVu Sans Mono',consolas,'Courier New',monospace\"></pre>\n"
      ]
     },
     "metadata": {},
     "output_type": "display_data"
    },
    {
     "data": {
      "text/plain": [
       "\n"
      ],
      "text/html": [
       "<pre style=\"white-space:pre;overflow-x:auto;line-height:normal;font-family:Menlo,'DejaVu Sans Mono',consolas,'Courier New',monospace\">\n",
       "</pre>\n"
      ]
     },
     "metadata": {},
     "output_type": "display_data"
    },
    {
     "name": "stderr",
     "output_type": "stream",
     "text": [
      "Sampling 4 chains for 1_000 tune and 1_000 draw iterations (4_000 + 4_000 draws total) took 1 seconds.\n"
     ]
    },
    {
     "name": "stdout",
     "output_type": "stream",
     "text": [
      "                         mean     sd  hdi_3%  hdi_97%  mcse_mean  mcse_sd  \\\n",
      "betas[sunlight hours]   4.972  0.054   4.871    5.072      0.001    0.000   \n",
      "betas[water amount]    19.964  0.050  19.871   20.057      0.001    0.000   \n",
      "betas[soil nitrogen]    1.995  0.056   1.890    2.103      0.001    0.001   \n",
      "sigma                   0.511  0.037   0.446    0.585      0.000    0.000   \n",
      "\n",
      "                       ess_bulk  ess_tail  r_hat  \n",
      "betas[sunlight hours]    6532.0    3216.0    1.0  \n",
      "betas[water amount]      5934.0    3306.0    1.0  \n",
      "betas[soil nitrogen]     6332.0    3316.0    1.0  \n",
      "sigma                    6109.0    3089.0    1.0  \n"
     ]
    }
   ],
   "execution_count": 5
  },
  {
   "metadata": {},
   "cell_type": "code",
   "outputs": [],
   "execution_count": null,
   "source": "",
   "id": "1f92fea43ff5f0d1"
  }
 ],
 "metadata": {
  "kernelspec": {
   "display_name": "Python 3 (ipykernel)",
   "language": "python",
   "name": "python3"
  },
  "language_info": {
   "codemirror_mode": {
    "name": "ipython",
    "version": 3
   },
   "file_extension": ".py",
   "mimetype": "text/x-python",
   "name": "python",
   "nbconvert_exporter": "python",
   "pygments_lexer": "ipython3",
   "version": "3.12.4"
  }
 },
 "nbformat": 4,
 "nbformat_minor": 5
}
